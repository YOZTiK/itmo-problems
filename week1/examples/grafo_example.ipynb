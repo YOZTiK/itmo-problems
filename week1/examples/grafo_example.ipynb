{
 "metadata": {
  "language_info": {
   "codemirror_mode": {
    "name": "ipython",
    "version": 3
   },
   "file_extension": ".py",
   "mimetype": "text/x-python",
   "name": "python",
   "nbconvert_exporter": "python",
   "pygments_lexer": "ipython3",
   "version": "3.8.3-final"
  },
  "orig_nbformat": 2,
  "kernelspec": {
   "name": "python3",
   "display_name": "Python 3",
   "language": "python"
  }
 },
 "nbformat": 4,
 "nbformat_minor": 2,
 "cells": [
  {
   "cell_type": "code",
   "execution_count": 1,
   "metadata": {},
   "outputs": [],
   "source": [
    "class Nodo:\n",
    "    valor = 1\n",
    "    padre = []\n",
    "    hijos = []\n",
    "    def __init__(self, valor, padre):\n",
    "        self.valor = valor\n",
    "    def getValor(self):\n",
    "        return self.valor\n",
    "    def getHijos(self):\n",
    "        return self.hijos\n",
    "    def setHijos(self, hijos):\n",
    "        self.hijos = hijos\n",
    "\n"
   ]
  },
  {
   "cell_type": "code",
   "execution_count": null,
   "metadata": {
    "tags": []
   },
   "outputs": [],
   "source": [
    "G0 = Nodo(1, None)\n",
    "\n",
    "def poblarArbol(nodo, calculo):\n",
    "    hijos = []\n",
    "    valor = nodo.getValor()\n",
    "    if(valor*3 <= calculo):\n",
    "        hijos.append(Nodo(valor*3,nodo))\n",
    "    if(valor*2 <= calculo):\n",
    "        hijos.append(Nodo(valor*2,nodo))\n",
    "    if(valor+1 <= calculo):\n",
    "        hijos.append(Nodo(valor+1,nodo))\n",
    "    nodo.setHijos(hijos)\n",
    "    for h in hijos:\n",
    "        poblarArbol(h, calculo)\n",
    "\n",
    "poblarArbol(G0,962340)"
   ]
  },
  {
   "cell_type": "code",
   "execution_count": 26,
   "metadata": {},
   "outputs": [],
   "source": [
    "def BFS(G0, calculo):\n",
    "    pila = [(0,[G0.getValor()],G0)]\n",
    "    nv = G0.getValor()\n",
    "    while(nv != calculo and pila):\n",
    "        print(pila)\n",
    "        e = pila.pop(0)\n",
    "        nv = e[-1].getValor()\n",
    "        if(nv != calculo):\n",
    "            for G in e[-1].getHijos():\n",
    "                pila.append((e[0]+1, e[1]+[G.getValor()],G))\n",
    "        else:\n",
    "            return e"
   ]
  },
  {
   "cell_type": "code",
   "execution_count": 27,
   "metadata": {},
   "outputs": [
    {
     "output_type": "stream",
     "name": "stdout",
     "text": [
      "[(0, [1], <__main__.Nodo object at 0x0000020CEA4FFBE0>)]\n[(1, [1, 3], <__main__.Nodo object at 0x0000020CEA4FF610>), (1, [1, 2], <__main__.Nodo object at 0x0000020CEA4FFC70>), (1, [1, 2], <__main__.Nodo object at 0x0000020CEA4FFD00>)]\n[(1, [1, 2], <__main__.Nodo object at 0x0000020CEA4FFC70>), (1, [1, 2], <__main__.Nodo object at 0x0000020CEA4FFD00>), (2, [1, 3, 4], <__main__.Nodo object at 0x0000020CEA4FFE20>)]\n[(1, [1, 2], <__main__.Nodo object at 0x0000020CEA4FFD00>), (2, [1, 3, 4], <__main__.Nodo object at 0x0000020CEA4FFE20>), (2, [1, 2, 4], <__main__.Nodo object at 0x0000020CEA4FFE80>), (2, [1, 2, 3], <__main__.Nodo object at 0x0000020CEA4FFF10>)]\n[(2, [1, 3, 4], <__main__.Nodo object at 0x0000020CEA4FFE20>), (2, [1, 2, 4], <__main__.Nodo object at 0x0000020CEA4FFE80>), (2, [1, 2, 3], <__main__.Nodo object at 0x0000020CEA4FFF10>), (2, [1, 2, 4], <__main__.Nodo object at 0x0000020CEA4FFF70>), (2, [1, 2, 3], <__main__.Nodo object at 0x0000020CEA509040>)]\n[(2, [1, 2, 4], <__main__.Nodo object at 0x0000020CEA4FFE80>), (2, [1, 2, 3], <__main__.Nodo object at 0x0000020CEA4FFF10>), (2, [1, 2, 4], <__main__.Nodo object at 0x0000020CEA4FFF70>), (2, [1, 2, 3], <__main__.Nodo object at 0x0000020CEA509040>), (3, [1, 3, 4, 5], <__main__.Nodo object at 0x0000020CEA4FFEB0>)]\n[(2, [1, 2, 3], <__main__.Nodo object at 0x0000020CEA4FFF10>), (2, [1, 2, 4], <__main__.Nodo object at 0x0000020CEA4FFF70>), (2, [1, 2, 3], <__main__.Nodo object at 0x0000020CEA509040>), (3, [1, 3, 4, 5], <__main__.Nodo object at 0x0000020CEA4FFEB0>), (3, [1, 2, 4, 5], <__main__.Nodo object at 0x0000020CEA4FFCA0>)]\n[(2, [1, 2, 4], <__main__.Nodo object at 0x0000020CEA4FFF70>), (2, [1, 2, 3], <__main__.Nodo object at 0x0000020CEA509040>), (3, [1, 3, 4, 5], <__main__.Nodo object at 0x0000020CEA4FFEB0>), (3, [1, 2, 4, 5], <__main__.Nodo object at 0x0000020CEA4FFCA0>), (3, [1, 2, 3, 4], <__main__.Nodo object at 0x0000020CEA4FFFD0>)]\n[(2, [1, 2, 3], <__main__.Nodo object at 0x0000020CEA509040>), (3, [1, 3, 4, 5], <__main__.Nodo object at 0x0000020CEA4FFEB0>), (3, [1, 2, 4, 5], <__main__.Nodo object at 0x0000020CEA4FFCA0>), (3, [1, 2, 3, 4], <__main__.Nodo object at 0x0000020CEA4FFFD0>), (3, [1, 2, 4, 5], <__main__.Nodo object at 0x0000020CEA5090D0>)]\n[(3, [1, 3, 4, 5], <__main__.Nodo object at 0x0000020CEA4FFEB0>), (3, [1, 2, 4, 5], <__main__.Nodo object at 0x0000020CEA4FFCA0>), (3, [1, 2, 3, 4], <__main__.Nodo object at 0x0000020CEA4FFFD0>), (3, [1, 2, 4, 5], <__main__.Nodo object at 0x0000020CEA5090D0>), (3, [1, 2, 3, 4], <__main__.Nodo object at 0x0000020CEA509130>)]\n"
     ]
    },
    {
     "output_type": "execute_result",
     "data": {
      "text/plain": [
       "(3, [1, 3, 4, 5], <__main__.Nodo at 0x20cea4ffeb0>)"
      ]
     },
     "metadata": {},
     "execution_count": 27
    }
   ],
   "source": [
    "BFS(G0,962340)"
   ]
  },
  {
   "cell_type": "code",
   "execution_count": null,
   "metadata": {},
   "outputs": [],
   "source": []
  }
 ]
}