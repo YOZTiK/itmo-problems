{
 "metadata": {
  "language_info": {
   "codemirror_mode": {
    "name": "ipython",
    "version": 3
   },
   "file_extension": ".py",
   "mimetype": "text/x-python",
   "name": "python",
   "nbconvert_exporter": "python",
   "pygments_lexer": "ipython3",
   "version": "3.8.3-final"
  },
  "orig_nbformat": 2,
  "kernelspec": {
   "name": "python3",
   "display_name": "Python 3",
   "language": "python"
  }
 },
 "nbformat": 4,
 "nbformat_minor": 2,
 "cells": [
  {
   "cell_type": "code",
   "execution_count": 1,
   "metadata": {},
   "outputs": [],
   "source": [
    "import math"
   ]
  },
  {
   "cell_type": "code",
   "execution_count": 2,
   "metadata": {},
   "outputs": [],
   "source": [
    "def grasshopper(cells, max_jump):\n",
    "    number_solutions = 0\n",
    "    solutions = []\n",
    "    for jump_size in range(max_jump,0,-1):\n",
    "        # print(jump_size)\n",
    "        for s in solutions:\n",
    "            total = 0\n",
    "            for elements in s:\n",
    "                total += elements\n",
    "            # print(sum)\n",
    "            for n in range((cells-total)//jump_size,0,-1):\n",
    "                solutions.append(s+[jump_size for i in range(n)])\n",
    "\n",
    "        for n in range(cells-1//jump_size,0,-1):\n",
    "            solutions.append([jump_size for i in range(n)])\n",
    "\n",
    "    solutions.sort()\n",
    "\n",
    "    for s in solutions:\n",
    "        for i in range(solutions.count(s)-1):\n",
    "            solutions.remove(s)\n",
    "    for s in solutions:\n",
    "        total = 0\n",
    "        count = 0\n",
    "        for elements in s:\n",
    "            total += elements\n",
    "            count += 1\n",
    "        if total == cells-1:\n",
    "            print(s , total)\n",
    "            permutations = math.factorial(count)\n",
    "            for unique in set(s):\n",
    "                permutations = permutations // math.factorial(s.count(unique))\n",
    "            print(\"permutations:\", permutations)\n",
    "            print()\n",
    "            number_solutions += permutations\n",
    "        # else:\n",
    "        #     solutions.remove(s)\n",
    "    return number_solutions"
   ]
  },
  {
   "cell_type": "code",
   "execution_count": 3,
   "metadata": {
    "tags": []
   },
   "outputs": [
    {
     "output_type": "stream",
     "name": "stdout",
     "text": [
      "[1, 1, 1, 1, 1, 1, 1, 1, 1] 9\npermutations: 1\n\n[2, 1, 1, 1, 1, 1, 1, 1] 9\npermutations: 8\n\n[2, 2, 1, 1, 1, 1, 1] 9\npermutations: 21\n\n[2, 2, 2, 1, 1, 1] 9\npermutations: 20\n\n[2, 2, 2, 2, 1] 9\npermutations: 5\n\n[3, 1, 1, 1, 1, 1, 1] 9\npermutations: 7\n\n[3, 2, 1, 1, 1, 1] 9\npermutations: 30\n\n[3, 2, 2, 1, 1] 9\npermutations: 30\n\n[3, 2, 2, 2] 9\npermutations: 4\n\n[3, 3, 1, 1, 1] 9\npermutations: 10\n\n[3, 3, 2, 1] 9\npermutations: 12\n\n[3, 3, 3] 9\npermutations: 1\n\n[4, 1, 1, 1, 1, 1] 9\npermutations: 6\n\n[4, 2, 1, 1, 1] 9\npermutations: 20\n\n[4, 2, 2, 1] 9\npermutations: 12\n\n[4, 3, 1, 1] 9\npermutations: 12\n\n[4, 3, 2] 9\npermutations: 6\n\n[4, 4, 1] 9\npermutations: 3\n\n"
     ]
    }
   ],
   "source": [
    "answer = grasshopper(10,4)"
   ]
  },
  {
   "cell_type": "code",
   "execution_count": 4,
   "metadata": {},
   "outputs": [
    {
     "output_type": "stream",
     "name": "stdout",
     "text": [
      "208\n"
     ]
    }
   ],
   "source": [
    "print(answer)"
   ]
  },
  {
   "cell_type": "code",
   "execution_count": null,
   "metadata": {},
   "outputs": [],
   "source": []
  }
 ]
}